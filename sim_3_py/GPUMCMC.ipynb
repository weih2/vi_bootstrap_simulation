{
 "cells": [
  {
   "cell_type": "code",
   "execution_count": 8,
   "metadata": {},
   "outputs": [],
   "source": [
    "import numpy as np\n",
    "\n",
    "import math\n",
    "# from time import time\n",
    "from numba import cuda\n",
    "from numba import jit\n",
    "import matplotlib\n",
    "import matplotlib.pyplot as plt\n",
    "#gen random numbers\n",
    "from numba.cuda.random import create_xoroshiro128p_states, xoroshiro128p_uniform_float64, xoroshiro128p_normal_float64"
   ]
  },
  {
   "cell_type": "code",
   "execution_count": 6,
   "metadata": {},
   "outputs": [],
   "source": [
    "test_seq = np.arange(-3, 1, 0.1)\n",
    "\n",
    "test_seq = np.exp(test_seq)\n"
   ]
  },
  {
   "cell_type": "code",
   "execution_count": 7,
   "metadata": {},
   "outputs": [
    {
     "data": {
      "text/plain": [
       "array([0.04978707, 0.05502322, 0.06081006, 0.06720551, 0.07427358,\n",
       "       0.082085  , 0.09071795, 0.10025884, 0.11080316, 0.12245643,\n",
       "       0.13533528, 0.14956862, 0.16529889, 0.18268352, 0.20189652,\n",
       "       0.22313016, 0.24659696, 0.27253179, 0.30119421, 0.33287108,\n",
       "       0.36787944, 0.40656966, 0.44932896, 0.4965853 , 0.54881164,\n",
       "       0.60653066, 0.67032005, 0.74081822, 0.81873075, 0.90483742,\n",
       "       1.        , 1.10517092, 1.22140276, 1.34985881, 1.4918247 ,\n",
       "       1.64872127, 1.8221188 , 2.01375271, 2.22554093, 2.45960311])"
      ]
     },
     "execution_count": 7,
     "metadata": {},
     "output_type": "execute_result"
    }
   ],
   "source": [
    "@cuda.jit(device = True)\n",
    "def gen_obs(n_obs):\n",
    "    t_id = cuda.grid(1)\n",
    "    delta = test_seq[t_id]\n",
    "    \n",
    "    mu0 = [-delta, 0, delta]\n",
    "    obs = []\n",
    "    for(i in range(n_obs)):\n",
    "        cat_sample = math.floor(xoroshiro128p_uniform_float64(rng_states, thread_id) * 3)\n",
    "        center_sample = mu0[cat_sample]\n",
    "        rd_n = xoroshiro128p_normal_float64(rng_states, thread_id)\n",
    "        obs.append(center_sample + rd_n)\n",
    "        \n",
    "    return obs\n",
    "\n",
    "@cuda.jit(devide = True)\n",
    "def gibbs_sampler(obs, n_burnin, n_samples, n_inter = 1):\n",
    "    t_id = cuda.grid(1)\n",
    "    \n",
    "    \n",
    "    "
   ]
  },
  {
   "cell_type": "code",
   "execution_count": 13,
   "metadata": {},
   "outputs": [
    {
     "data": {
      "text/plain": [
       "2"
      ]
     },
     "execution_count": 13,
     "metadata": {},
     "output_type": "execute_result"
    }
   ],
   "source": [
    "math.floor(2.5)"
   ]
  },
  {
   "cell_type": "code",
   "execution_count": null,
   "metadata": {},
   "outputs": [],
   "source": []
  }
 ],
 "metadata": {
  "kernelspec": {
   "display_name": "Python 3",
   "language": "python",
   "name": "python3"
  },
  "language_info": {
   "codemirror_mode": {
    "name": "ipython",
    "version": 3
   },
   "file_extension": ".py",
   "mimetype": "text/x-python",
   "name": "python",
   "nbconvert_exporter": "python",
   "pygments_lexer": "ipython3",
   "version": "3.7.3"
  }
 },
 "nbformat": 4,
 "nbformat_minor": 2
}
